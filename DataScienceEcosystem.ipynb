{
 "cells": [
  {
   "cell_type": "markdown",
   "id": "0360bc84",
   "metadata": {},
   "source": [
    "# Data Science Tools and Ecosystem "
   ]
  },
  {
   "cell_type": "markdown",
   "id": "44fb90e3",
   "metadata": {},
   "source": [
    "In this notebook, Data Science Tools and Ecosystem are summarized"
   ]
  },
  {
   "cell_type": "markdown",
   "id": "0e2e271a",
   "metadata": {},
   "source": [
    "Some of the popular languages that Data Scientists use are:\n",
    "\n",
    "\n",
    "    Phyton\n",
    "    R\n",
    "    Julia\n"
   ]
  },
  {
   "cell_type": "markdown",
   "id": "80339701",
   "metadata": {},
   "source": [
    "Some of the commonly used libraries used by Data Scientists include:\n",
    "    \n",
    "    \n",
    "    Pandas\n",
    "    Numpy\n",
    "    Matplotlib"
   ]
  },
  {
   "cell_type": "markdown",
   "id": "675dd3df",
   "metadata": {},
   "source": [
    "| Data Science Tools          |\n",
    "|-------------------------------|\n",
    "| 1. Jupyter Notebook         |\n",
    "| 2. RStudio                  |\n",
    "| 3. Visual Studio Code (VS Code) |\n"
   ]
  },
  {
   "cell_type": "markdown",
   "id": "84ebd6a6",
   "metadata": {},
   "source": [
    "### Below are a few examples of evaluating arithmetic expressions in Python"
   ]
  },
  {
   "cell_type": "code",
   "execution_count": 3,
   "id": "7531dc2f",
   "metadata": {},
   "outputs": [
    {
     "data": {
      "text/plain": [
       "17"
      ]
     },
     "execution_count": 3,
     "metadata": {},
     "output_type": "execute_result"
    }
   ],
   "source": [
    "# This a simple arithmetic expression to mutiply then add integers\n",
    "(3*4)+5"
   ]
  },
  {
   "cell_type": "code",
   "execution_count": 2,
   "id": "70df2a9b",
   "metadata": {},
   "outputs": [
    {
     "data": {
      "text/plain": [
       "3.3333333333333335"
      ]
     },
     "execution_count": 2,
     "metadata": {},
     "output_type": "execute_result"
    }
   ],
   "source": [
    "#This will convert 200 minutes to hours by diving by 60\n",
    "200 / 60"
   ]
  },
  {
   "cell_type": "markdown",
   "id": "cd6b6980",
   "metadata": {},
   "source": [
    "# Objectives:"
   ]
  },
  {
   "cell_type": "markdown",
   "id": "1d0d9846",
   "metadata": {},
   "source": [
    "List popular languages for Data Science:\n",
    "    \n",
    "    Phyton\n",
    "    R\n",
    "    Julia\n",
    "    SAS\n",
    "    Perl\n",
    "    "
   ]
  },
  {
   "cell_type": "markdown",
   "id": "98a19be2",
   "metadata": {},
   "source": [
    "# Author\n",
    "Teguh Eko Nugroho"
   ]
  },
  {
   "cell_type": "code",
   "execution_count": null,
   "id": "6759bd12",
   "metadata": {},
   "outputs": [],
   "source": []
  }
 ],
 "metadata": {
  "kernelspec": {
   "display_name": "Python 3 (ipykernel)",
   "language": "python",
   "name": "python3"
  },
  "language_info": {
   "codemirror_mode": {
    "name": "ipython",
    "version": 3
   },
   "file_extension": ".py",
   "mimetype": "text/x-python",
   "name": "python",
   "nbconvert_exporter": "python",
   "pygments_lexer": "ipython3",
   "version": "3.10.9"
  }
 },
 "nbformat": 4,
 "nbformat_minor": 5
}
